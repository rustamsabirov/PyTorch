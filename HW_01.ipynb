{
 "cells": [
  {
   "cell_type": "code",
   "execution_count": 1,
   "metadata": {},
   "outputs": [],
   "source": [
    "import torch"
   ]
  },
  {
   "cell_type": "code",
   "execution_count": 59,
   "metadata": {},
   "outputs": [
    {
     "data": {
      "text/plain": [
       "tensor([[[0.6439, 0.8697, 0.0749, 0.0629, 0.8089],\n",
       "         [0.3411, 0.0782, 0.4151, 0.9741, 0.4304],\n",
       "         [0.6007, 0.2270, 0.6835, 0.2478, 0.0814],\n",
       "         [0.7249, 0.3579, 0.8202, 0.5771, 0.5668]],\n",
       "\n",
       "        [[0.3391, 0.6491, 0.5788, 0.1900, 0.8918],\n",
       "         [0.7706, 0.2784, 0.7078, 0.7482, 0.8212],\n",
       "         [0.5017, 0.6595, 0.1840, 0.5703, 0.3835],\n",
       "         [0.5564, 0.1760, 0.0106, 0.5426, 0.3125]],\n",
       "\n",
       "        [[0.0161, 0.2736, 0.2631, 0.7769, 0.9341],\n",
       "         [0.1617, 0.2810, 0.0071, 0.5245, 0.5961],\n",
       "         [0.0733, 0.9158, 0.2525, 0.0319, 0.9026],\n",
       "         [0.3036, 0.2836, 0.6060, 0.3572, 0.0937]]])"
      ]
     },
     "execution_count": 59,
     "metadata": {},
     "output_type": "execute_result"
    }
   ],
   "source": [
    "# Создайте случайный FloatTensor размера 3x4x5\n",
    "import random\n",
    "a = torch.FloatTensor(torch.rand(3*4*5)).view(3,4,5)\n",
    "a"
   ]
  },
  {
   "cell_type": "code",
   "execution_count": 60,
   "metadata": {},
   "outputs": [
    {
     "data": {
      "text/plain": [
       "torch.Size([3, 4, 5])"
      ]
     },
     "execution_count": 60,
     "metadata": {},
     "output_type": "execute_result"
    }
   ],
   "source": [
    "# Выведите его форму (shape)\n",
    "a.shape"
   ]
  },
  {
   "cell_type": "code",
   "execution_count": 64,
   "metadata": {},
   "outputs": [
    {
     "data": {
      "text/plain": [
       "tensor([[0.6439, 0.8697, 0.0749, 0.0629, 0.8089, 0.3411, 0.0782, 0.4151, 0.9741,\n",
       "         0.4304],\n",
       "        [0.6007, 0.2270, 0.6835, 0.2478, 0.0814, 0.7249, 0.3579, 0.8202, 0.5771,\n",
       "         0.5668],\n",
       "        [0.3391, 0.6491, 0.5788, 0.1900, 0.8918, 0.7706, 0.2784, 0.7078, 0.7482,\n",
       "         0.8212],\n",
       "        [0.5017, 0.6595, 0.1840, 0.5703, 0.3835, 0.5564, 0.1760, 0.0106, 0.5426,\n",
       "         0.3125],\n",
       "        [0.0161, 0.2736, 0.2631, 0.7769, 0.9341, 0.1617, 0.2810, 0.0071, 0.5245,\n",
       "         0.5961],\n",
       "        [0.0733, 0.9158, 0.2525, 0.0319, 0.9026, 0.3036, 0.2836, 0.6060, 0.3572,\n",
       "         0.0937]])"
      ]
     },
     "execution_count": 64,
     "metadata": {},
     "output_type": "execute_result"
    }
   ],
   "source": [
    "# Приведите его к форме 6 X 10\n",
    "c=a.reshape(6,10)\n",
    "c"
   ]
  },
  {
   "cell_type": "code",
   "execution_count": 62,
   "metadata": {},
   "outputs": [
    {
     "data": {
      "text/plain": [
       "tensor([[[0.6439, 3.4787, 0.1497, 0.1259, 0.8089],\n",
       "         [0.3411, 0.3127, 0.8302, 1.9482, 0.4304],\n",
       "         [0.6007, 0.9081, 1.3670, 0.4956, 0.0814],\n",
       "         [0.7249, 1.4316, 1.6403, 1.1541, 0.5668]],\n",
       "\n",
       "        [[0.3391, 2.5962, 1.1576, 0.3800, 0.8918],\n",
       "         [0.7706, 1.1137, 1.4155, 1.4964, 0.8212],\n",
       "         [0.5017, 2.6380, 0.3680, 1.1407, 0.3835],\n",
       "         [0.5564, 0.7039, 0.0212, 1.0853, 0.3125]],\n",
       "\n",
       "        [[0.0161, 1.0943, 0.5262, 1.5538, 0.9341],\n",
       "         [0.1617, 1.1240, 0.0142, 1.0490, 0.5961],\n",
       "         [0.0733, 3.6631, 0.5051, 0.0638, 0.9026],\n",
       "         [0.3036, 1.1343, 1.2120, 0.7144, 0.0937]]])"
      ]
     },
     "execution_count": 62,
     "metadata": {},
     "output_type": "execute_result"
    }
   ],
   "source": [
    "# Умножьте его на вектор [1, 4, 2, 2, 1] поэлементно\n",
    "b = torch.FloatTensor([1, 4, 2, 2, 1])\n",
    "a*b"
   ]
  },
  {
   "cell_type": "code",
   "execution_count": 74,
   "metadata": {
    "scrolled": true
   },
   "outputs": [
    {
     "data": {
      "text/plain": [
       "tensor([[3.2638, 2.1387, 3.2202, 2.1275, 1.9200, 2.3602],\n",
       "        [2.1387, 2.9283, 3.0024, 1.7147, 1.3843, 1.5839],\n",
       "        [3.2202, 3.0024, 4.1092, 2.3028, 2.4057, 2.6625],\n",
       "        [2.1275, 1.7147, 2.3028, 1.9256, 1.6485, 1.4999],\n",
       "        [1.9200, 1.3843, 2.4057, 1.6485, 2.3559, 1.5623],\n",
       "        [2.3602, 1.5839, 2.6625, 1.4999, 1.5623, 2.3997]])"
      ]
     },
     "execution_count": 74,
     "metadata": {},
     "output_type": "execute_result"
    }
   ],
   "source": [
    "# Умножьте тензор матрично на себя, чтобы результат был размерности 6x6\n",
    "torch.mm(c,c.T)\n",
    "# torch.matmul(c,c.T)"
   ]
  },
  {
   "cell_type": "code",
   "execution_count": 88,
   "metadata": {
    "scrolled": true
   },
   "outputs": [
    {
     "data": {
      "text/plain": [
       "(tensor([3.]), tensor([1.]), tensor([-75.]))"
      ]
     },
     "execution_count": 88,
     "metadata": {},
     "output_type": "execute_result"
    }
   ],
   "source": [
    "# Посчитайте производную функции y = x**3 + z - 75t в точке (1, 0.5, 2)\n",
    "from torch.autograd import Variable\n",
    "x = Variable(torch.FloatTensor([1]),   requires_grad = True)\n",
    "z = Variable(torch.FloatTensor([0.5]), requires_grad = True)\n",
    "t = Variable(torch.FloatTensor([2]),   requires_grad = True)\n",
    "\n",
    "y = x**3 + z -75*t\n",
    "\n",
    "y.backward([x, z, t])\n",
    "\n",
    "(x.grad, z.grad, t.grad)"
   ]
  },
  {
   "cell_type": "code",
   "execution_count": 94,
   "metadata": {},
   "outputs": [
    {
     "data": {
      "text/plain": [
       "tensor([[1., 1., 1., 1., 1., 1.],\n",
       "        [1., 1., 1., 1., 1., 1.],\n",
       "        [1., 1., 1., 1., 1., 1.],\n",
       "        [1., 1., 1., 1., 1., 1.],\n",
       "        [1., 1., 1., 1., 1., 1.]])"
      ]
     },
     "execution_count": 94,
     "metadata": {},
     "output_type": "execute_result"
    }
   ],
   "source": [
    "# Создайте единичный тензор размера 5x6\n",
    "t=torch.ones(5,6)\n",
    "t"
   ]
  },
  {
   "cell_type": "code",
   "execution_count": 104,
   "metadata": {},
   "outputs": [
    {
     "data": {
      "text/plain": [
       "array([[1., 1., 1., 1., 1., 1.],\n",
       "       [1., 1., 1., 1., 1., 1.],\n",
       "       [1., 1., 1., 1., 1., 1.],\n",
       "       [1., 1., 1., 1., 1., 1.],\n",
       "       [1., 1., 1., 1., 1., 1.]], dtype=float32)"
      ]
     },
     "execution_count": 104,
     "metadata": {},
     "output_type": "execute_result"
    }
   ],
   "source": [
    "# Переведите его в формат numpy\n",
    "import numpy as np\n",
    "t.numpy()"
   ]
  },
  {
   "cell_type": "code",
   "execution_count": 241,
   "metadata": {},
   "outputs": [],
   "source": [
    "# Давайте теперь пооптимизируем: возьмите функцию y = x**w1 - 2 * x**2 + 5\n",
    "# Посчитайте "
   ]
  },
  {
   "cell_type": "code",
   "execution_count": 508,
   "metadata": {},
   "outputs": [],
   "source": [
    "from torch import nn \n",
    "from torch import optim"
   ]
  },
  {
   "cell_type": "code",
   "execution_count": 509,
   "metadata": {},
   "outputs": [],
   "source": [
    "x = torch.FloatTensor([1])\n",
    "w1 = Variable(torch.FloatTensor([1]), requires_grad=True)\n",
    "\n",
    "y = x**w1 - 2*x**2 + 5"
   ]
  },
  {
   "cell_type": "code",
   "execution_count": 510,
   "metadata": {},
   "outputs": [],
   "source": [
    "criterion = nn.MSELoss()"
   ]
  },
  {
   "cell_type": "code",
   "execution_count": 511,
   "metadata": {},
   "outputs": [],
   "source": [
    "optimizer = optim.SGD([w1], lr=0.01)"
   ]
  },
  {
   "cell_type": "code",
   "execution_count": 512,
   "metadata": {},
   "outputs": [],
   "source": [
    "layer=nn.Linear(1,1,bias=False)"
   ]
  },
  {
   "cell_type": "code",
   "execution_count": 513,
   "metadata": {},
   "outputs": [
    {
     "data": {
      "text/plain": [
       "(Parameter containing:\n",
       " tensor([[0.0828]], requires_grad=True),\n",
       " None)"
      ]
     },
     "execution_count": 513,
     "metadata": {},
     "output_type": "execute_result"
    }
   ],
   "source": [
    "layer.weight, layer.bias"
   ]
  },
  {
   "cell_type": "code",
   "execution_count": 514,
   "metadata": {},
   "outputs": [],
   "source": [
    "optimizer.zero_grad()\n",
    "x = torch.FloatTensor([2])\n",
    "\n",
    "pred = x ** layer(torch.FloatTensor([1])) -2 * x**2 + 5\n",
    "loss = criterion(pred, y)"
   ]
  },
  {
   "cell_type": "code",
   "execution_count": 515,
   "metadata": {},
   "outputs": [
    {
     "data": {
      "text/plain": [
       "tensor(35.2949, grad_fn=<MseLossBackward0>)"
      ]
     },
     "execution_count": 515,
     "metadata": {},
     "output_type": "execute_result"
    }
   ],
   "source": [
    "loss"
   ]
  },
  {
   "cell_type": "code",
   "execution_count": 516,
   "metadata": {},
   "outputs": [],
   "source": [
    "loss.backward()\n",
    "optimizer.step()"
   ]
  },
  {
   "cell_type": "code",
   "execution_count": 517,
   "metadata": {},
   "outputs": [
    {
     "data": {
      "text/plain": [
       "tensor([-1.9410], grad_fn=<AddBackward0>)"
      ]
     },
     "execution_count": 517,
     "metadata": {},
     "output_type": "execute_result"
    }
   ],
   "source": [
    "pred"
   ]
  },
  {
   "cell_type": "code",
   "execution_count": 518,
   "metadata": {},
   "outputs": [
    {
     "name": "stdout",
     "output_type": "stream",
     "text": [
      "tensor([[-8.7222]])\n"
     ]
    }
   ],
   "source": [
    "print(layer.weight.grad)"
   ]
  },
  {
   "cell_type": "code",
   "execution_count": null,
   "metadata": {},
   "outputs": [],
   "source": []
  }
 ],
 "metadata": {
  "kernelspec": {
   "display_name": "Python 3 (ipykernel)",
   "language": "python",
   "name": "python3"
  },
  "language_info": {
   "codemirror_mode": {
    "name": "ipython",
    "version": 3
   },
   "file_extension": ".py",
   "mimetype": "text/x-python",
   "name": "python",
   "nbconvert_exporter": "python",
   "pygments_lexer": "ipython3",
   "version": "3.9.13"
  }
 },
 "nbformat": 4,
 "nbformat_minor": 2
}
