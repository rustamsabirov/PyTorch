{
 "cells": [
  {
   "cell_type": "code",
   "execution_count": 25,
   "metadata": {
    "id": "YVb6A-bvtZ2P"
   },
   "outputs": [],
   "source": [
    "import torch\n",
    "import numpy as np\n",
    "import torch.nn.functional as F\n",
    "from torch import nn\n",
    "import torchvision"
   ]
  },
  {
   "cell_type": "markdown",
   "metadata": {
    "id": "IIl8JhaxtZ2y"
   },
   "source": [
    "Примерчик посложней:\n",
    "\n",
    "**CIFAR10**\n"
   ]
  },
  {
   "cell_type": "code",
   "execution_count": 313,
   "metadata": {
    "id": "Gp3vmbx3tZ2z"
   },
   "outputs": [],
   "source": [
    "from torch import optim"
   ]
  },
  {
   "cell_type": "code",
   "execution_count": 314,
   "metadata": {
    "id": "NzHXA9Q_tZ20"
   },
   "outputs": [],
   "source": [
    "import torchvision.transforms as transforms"
   ]
  },
  {
   "cell_type": "markdown",
   "metadata": {},
   "source": [
    "Загружаем примеры:\n",
    "\n",
    "    - тренировочный набор"
   ]
  },
  {
   "cell_type": "code",
   "execution_count": 315,
   "metadata": {
    "colab": {
     "base_uri": "https://localhost:8080/",
     "height": 122,
     "referenced_widgets": [
      "5f6a4e99ed964343ac697d166d8c92b6",
      "7db40f22bdb248b2ab76d9504c867bc3",
      "d6e555108b8344a7a3f1b423e805fea7",
      "ea8d5abd79b04e208b90023b7261fd54",
      "d2dc4119bec04059ae744ed2511967be",
      "61af6dce3d004e25ad1c2dcb5989dbf5",
      "f1d79c697a734eaf93e64045cfc3f4d8",
      "61174812d0564de49a75118d6ca02a47",
      "569fb80224674514b427882a0416563f",
      "f96baa58fcf846da87e0d00278dee964",
      "9ab1e83850eb49ac9860160c42eea6e6"
     ]
    },
    "executionInfo": {
     "elapsed": 18174,
     "status": "ok",
     "timestamp": 1665417887283,
     "user": {
      "displayName": "Mariia Korliakova",
      "userId": "14165537686129864864"
     },
     "user_tz": -180
    },
    "id": "1ABe6EY5tZ20",
    "outputId": "d9171efb-30d2-48ce-e11d-08a0b7593ae5"
   },
   "outputs": [
    {
     "name": "stdout",
     "output_type": "stream",
     "text": [
      "Files already downloaded and verified\n"
     ]
    }
   ],
   "source": [
    "train_dataset = torchvision.datasets.CIFAR10(root='data/',\n",
    "                                             train=True,  \n",
    "                                             transform=transforms.ToTensor(), \n",
    "                                             download=True)\n"
   ]
  },
  {
   "cell_type": "markdown",
   "metadata": {},
   "source": [
    "Читаем один пример:"
   ]
  },
  {
   "cell_type": "code",
   "execution_count": 316,
   "metadata": {},
   "outputs": [
    {
     "name": "stdout",
     "output_type": "stream",
     "text": [
      "torch.Size([3, 32, 32])\n",
      "4\n"
     ]
    }
   ],
   "source": [
    "image, label = train_dataset[10]\n",
    "print(image.size())\n",
    "print(label)"
   ]
  },
  {
   "cell_type": "code",
   "execution_count": 317,
   "metadata": {
    "colab": {
     "base_uri": "https://localhost:8080/"
    },
    "executionInfo": {
     "elapsed": 11,
     "status": "ok",
     "timestamp": 1665417887283,
     "user": {
      "displayName": "Mariia Korliakova",
      "userId": "14165537686129864864"
     },
     "user_tz": -180
    },
    "id": "wgkIcZL6FQWk",
    "outputId": "ceb60a5e-5d56-4f80-f98e-68eec053b342"
   },
   "outputs": [
    {
     "data": {
      "text/plain": [
       "torch.Size([32, 32, 3])"
      ]
     },
     "execution_count": 317,
     "metadata": {},
     "output_type": "execute_result"
    }
   ],
   "source": [
    "image.permute(1, 2, 0).shape"
   ]
  },
  {
   "cell_type": "code",
   "execution_count": 318,
   "metadata": {
    "colab": {
     "base_uri": "https://localhost:8080/",
     "height": 266
    },
    "executionInfo": {
     "elapsed": 738,
     "status": "ok",
     "timestamp": 1665417897675,
     "user": {
      "displayName": "Mariia Korliakova",
      "userId": "14165537686129864864"
     },
     "user_tz": -180
    },
    "id": "gk9lX8VdtZ21",
    "outputId": "c546b909-52fe-43e5-9a8e-690570e2a740"
   },
   "outputs": [
    {
     "data": {
      "image/png": "[encoded data removed]",
      "text/plain": [
       "<Figure size 640x480 with 1 Axes>"
      ]
     },
     "metadata": {},
     "output_type": "display_data"
    }
   ],
   "source": [
    "plt.imshow(image.permute(1, 2, 0).numpy());"
   ]
  },
  {
   "cell_type": "markdown",
   "metadata": {},
   "source": [
    "Создадим загрузчик (генератор пакетов):"
   ]
  },
  {
   "cell_type": "code",
   "execution_count": 319,
   "metadata": {
    "id": "dzocRyIKtZ22"
   },
   "outputs": [],
   "source": [
    "train_loader = torch.utils.data.DataLoader(dataset=train_dataset,\n",
    "                                           batch_size=64, \n",
    "                                           shuffle=True)"
   ]
  },
  {
   "cell_type": "markdown",
   "metadata": {},
   "source": [
    "Повторим для тестовых данных:"
   ]
  },
  {
   "cell_type": "code",
   "execution_count": 320,
   "metadata": {
    "colab": {
     "base_uri": "https://localhost:8080/"
    },
    "executionInfo": {
     "elapsed": 1461,
     "status": "ok",
     "timestamp": 1665417908905,
     "user": {
      "displayName": "Mariia Korliakova",
      "userId": "14165537686129864864"
     },
     "user_tz": -180
    },
    "id": "K1XeQ1aPtZ23",
    "outputId": "88562a7e-8323-4473-c5a9-502319856eeb"
   },
   "outputs": [
    {
     "name": "stdout",
     "output_type": "stream",
     "text": [
      "Files already downloaded and verified\n"
     ]
    }
   ],
   "source": [
    "test_dataset = torchvision.datasets.CIFAR10(root='./data', train=False,\n",
    "                                            download=True, transform=transforms.ToTensor())\n",
    "test_loader = torch.utils.data.DataLoader(test_dataset, batch_size=8,\n",
    "                                          shuffle=False)"
   ]
  },
  {
   "cell_type": "markdown",
   "metadata": {},
   "source": [
    "Список классов:"
   ]
  },
  {
   "cell_type": "code",
   "execution_count": 321,
   "metadata": {
    "id": "oFYrzU1NtZ24"
   },
   "outputs": [],
   "source": [
    "classes = ('plane', 'car', 'bird', 'cat',\n",
    "           'deer', 'dog', 'frog', 'horse', 'ship', 'truck')"
   ]
  },
  {
   "cell_type": "markdown",
   "metadata": {},
   "source": [
    "нейронка:"
   ]
  },
  {
   "cell_type": "code",
   "execution_count": 322,
   "metadata": {
    "colab": {
     "base_uri": "https://localhost:8080/"
    },
    "executionInfo": {
     "elapsed": 2,
     "status": "ok",
     "timestamp": 1665417913395,
     "user": {
      "displayName": "Mariia Korliakova",
      "userId": "14165537686129864864"
     },
     "user_tz": -180
    },
    "id": "8wS-xS37tZ26",
    "outputId": "2bf3b860-41b8-4606-ca8b-ecfef29afce1"
   },
   "outputs": [],
   "source": [
    "# import torch.nn.functional as F\n",
    "\n",
    "# hidden_dim = 128\n",
    "\n",
    "# class Net(nn.Module):\n",
    "#     def __init__(self, input_dim, output_dim,  l_n=[hidden_dim * 4, hidden_dim * 2, hidden_dim * 1 ]):\n",
    "#         super().__init__()\n",
    "#         self.fc1 = nn.Linear(input_dim, l_n[0])\n",
    "#         self.fc2 = nn.Linear(l_n[0], l_n[1])\n",
    "#         self.fc3 = nn.Linear(l_n[1], l_n[-1])\n",
    "#         self.fc4 = nn.Linear(l_n[-1], output_dim)\n",
    "\n",
    "#     def forward(self, x):\n",
    "#         x = x.view(x.shape[0], -1)\n",
    "#         x = self.fc1(x)\n",
    "#         x = F.leaky_relu(x)\n",
    "#         x = self.fc2(x)\n",
    "#         x = F.leaky_relu(x)\n",
    "#         x = self.fc3(x)\n",
    "#         x = F.leaky_relu(x)\n",
    "#         x = self.fc4(x)\n",
    "#         return x\n",
    "    \n",
    "#     def predict(self, x):\n",
    "#         x = x.view(x.shape[0], -1)\n",
    "#         x = self.fc1(x)\n",
    "#         x = F.leaky_relu(x)\n",
    "#         x = self.fc2(x)\n",
    "#         x = F.leaky_relu(x)\n",
    "#         x = self.fc3(x)\n",
    "#         x = F.leaky_relu(x)\n",
    "#         x = self.fc4(x)\n",
    "#         x = F.softmax(x)\n",
    "#         return x\n",
    "\n",
    "# h128 = 128\n",
    "# net = Net(3072, 10, [h128*4, h128*2, h128])\n",
    "# net.train()"
   ]
  },
  {
   "cell_type": "code",
   "execution_count": 323,
   "metadata": {},
   "outputs": [
    {
     "data": {
      "text/plain": [
       "Net(\n",
       "  (fc1): Linear(in_features=3072, out_features=512, bias=True)\n",
       "  (fc2): Linear(in_features=512, out_features=256, bias=True)\n",
       "  (fc3): Linear(in_features=256, out_features=128, bias=True)\n",
       "  (fc4): Linear(in_features=128, out_features=10, bias=True)\n",
       ")"
      ]
     },
     "execution_count": 323,
     "metadata": {},
     "output_type": "execute_result"
    }
   ],
   "source": [
    "import torch.nn.functional as F\n",
    "\n",
    "hidden_dim = 128\n",
    "\n",
    "class Net(nn.Module):\n",
    "    def __init__(self, input_dim, output_dim,  l_n=[hidden_dim * 4, hidden_dim * 2, hidden_dim * 1 ]):\n",
    "        super().__init__()\n",
    "        self.fc1 = nn.Linear(input_dim, l_n[0])\n",
    "        self.fc2 = nn.Linear(l_n[0], l_n[1])\n",
    "        self.fc3 = nn.Linear(l_n[1], l_n[-1])\n",
    "        self.fc4 = nn.Linear(l_n[-1], output_dim)\n",
    "\n",
    "    def forward(self, x):\n",
    "        x = x.view(x.shape[0], -1)\n",
    "        x = self.fc1(x)\n",
    "        x = F.leaky_relu(x)\n",
    "        x = self.fc2(x)\n",
    "        x = F.leaky_relu(x)\n",
    "        x = self.fc3(x)\n",
    "        x = F.leaky_relu(x)\n",
    "        x = self.fc4(x)\n",
    "        return x\n",
    "    \n",
    "    def predict(self, x):\n",
    "        x = x.view(x.shape[0], -1)\n",
    "        x = self.fc1(x)\n",
    "        x = F.leaky_relu(x)\n",
    "        x = self.fc2(x)\n",
    "        x = F.leaky_relu(x)\n",
    "        x = self.fc3(x)\n",
    "        x = F.leaky_relu(x)\n",
    "        x = self.fc4(x)\n",
    "        x = F.softmax(x)\n",
    "        return x\n",
    "\n",
    "h128 = 128\n",
    "net = Net(3072, 10, [h128*4, h128*2, h128])\n",
    "net.train()"
   ]
  },
  {
   "cell_type": "code",
   "execution_count": 324,
   "metadata": {
    "colab": {
     "base_uri": "https://localhost:8080/"
    },
    "executionInfo": {
     "elapsed": 4,
     "status": "ok",
     "timestamp": 1665417916314,
     "user": {
      "displayName": "Mariia Korliakova",
      "userId": "14165537686129864864"
     },
     "user_tz": -180
    },
    "id": "Gdc_JriftZ25",
    "outputId": "868644f5-5a18-4b48-b616-6929aa9f7306"
   },
   "outputs": [
    {
     "data": {
      "text/plain": [
       "3072"
      ]
     },
     "execution_count": 324,
     "metadata": {},
     "output_type": "execute_result"
    }
   ],
   "source": [
    "3 * 32 * 32"
   ]
  },
  {
   "cell_type": "markdown",
   "metadata": {},
   "source": [
    "Потери и оптимизатор:"
   ]
  },
  {
   "cell_type": "code",
   "execution_count": 325,
   "metadata": {},
   "outputs": [],
   "source": [
    "# базовый lr=0.01\n",
    "# базовый lr=0.001"
   ]
  },
  {
   "cell_type": "code",
   "execution_count": 326,
   "metadata": {
    "id": "cps8zpkctZ26"
   },
   "outputs": [],
   "source": [
    "criterion = nn.CrossEntropyLoss()\n",
    "# optimizer = optim.SGD(net.parameters(), lr=0.001, momentum=0.0)\n",
    "optimizer = optim.Adam(net.parameters(), lr=0.001, betas=(0.9, 0.999), weight_decay=0)"
   ]
  },
  {
   "cell_type": "markdown",
   "metadata": {},
   "source": [
    "цикл обучения:"
   ]
  },
  {
   "cell_type": "code",
   "execution_count": 327,
   "metadata": {},
   "outputs": [],
   "source": [
    "# num_epochs = 5\n",
    "# num_epochs = 15"
   ]
  },
  {
   "cell_type": "code",
   "execution_count": 345,
   "metadata": {
    "colab": {
     "base_uri": "https://localhost:8080/"
    },
    "executionInfo": {
     "elapsed": 56789,
     "status": "ok",
     "timestamp": 1665417982707,
     "user": {
      "displayName": "Mariia Korliakova",
      "userId": "14165537686129864864"
     },
     "user_tz": -180
    },
    "id": "5fKNYUqetZ27",
    "outputId": "900f272b-a6e6-427e-d0ec-0ba9c9de854b"
   },
   "outputs": [
    {
     "name": "stdout",
     "output_type": "stream",
     "text": [
      "Epoch [1/15]. Step [1/782]. Loss: 0.019 : 64\n",
      "Epoch [1/15]. Step [301/782]. Loss: 0.018 : 64\n",
      "Epoch [1/15]. Step [601/782]. Loss: 0.018 : 64\n"
     ]
    },
    {
     "name": "stderr",
     "output_type": "stream",
     "text": [
      "C:\\Users\\Relict\\AppData\\Local\\Temp\\ipykernel_5016\\173106317.py:33: UserWarning: Implicit dimension choice for softmax has been deprecated. Change the call to include dim=X as an argument.\n",
      "  x = F.softmax(x)\n"
     ]
    },
    {
     "name": "stdout",
     "output_type": "stream",
     "text": [
      "tensor([3, 8, 8, 0, 6, 6, 1, 6]) tensor([3, 8, 8, 0, 4, 6, 5, 6])\n",
      "Epoch [2/15]. Step [1/782]. Loss: 0.020 : 64\n",
      "Epoch [2/15]. Step [301/782]. Loss: 0.018 : 64\n",
      "Epoch [2/15]. Step [601/782]. Loss: 0.018 : 64\n",
      "tensor([3, 8, 8, 0, 6, 6, 1, 6]) tensor([3, 8, 8, 8, 6, 6, 1, 6])\n",
      "Epoch [3/15]. Step [1/782]. Loss: 0.024 : 64\n",
      "Epoch [3/15]. Step [301/782]. Loss: 0.018 : 64\n",
      "Epoch [3/15]. Step [601/782]. Loss: 0.018 : 64\n",
      "tensor([3, 8, 8, 0, 6, 6, 1, 6]) tensor([3, 8, 8, 8, 4, 6, 1, 6])\n",
      "Epoch [4/15]. Step [1/782]. Loss: 0.018 : 64\n",
      "Epoch [4/15]. Step [301/782]. Loss: 0.017 : 64\n",
      "Epoch [4/15]. Step [601/782]. Loss: 0.017 : 64\n",
      "tensor([3, 8, 8, 0, 6, 6, 1, 6]) tensor([4, 8, 1, 0, 6, 6, 1, 6])\n",
      "Epoch [5/15]. Step [1/782]. Loss: 0.016 : 64\n",
      "Epoch [5/15]. Step [301/782]. Loss: 0.017 : 64\n",
      "Epoch [5/15]. Step [601/782]. Loss: 0.017 : 64\n",
      "tensor([3, 8, 8, 0, 6, 6, 1, 6]) tensor([4, 8, 0, 0, 4, 6, 1, 6])\n",
      "Epoch [6/15]. Step [1/782]. Loss: 0.018 : 64\n",
      "Epoch [6/15]. Step [301/782]. Loss: 0.017 : 64\n",
      "Epoch [6/15]. Step [601/782]. Loss: 0.017 : 64\n",
      "tensor([3, 8, 8, 0, 6, 6, 1, 6]) tensor([4, 8, 8, 8, 4, 6, 1, 6])\n",
      "Epoch [7/15]. Step [1/782]. Loss: 0.018 : 64\n",
      "Epoch [7/15]. Step [301/782]. Loss: 0.016 : 64\n",
      "Epoch [7/15]. Step [601/782]. Loss: 0.017 : 64\n",
      "tensor([3, 8, 8, 0, 6, 6, 1, 6]) tensor([4, 8, 1, 8, 4, 6, 1, 6])\n",
      "Epoch [8/15]. Step [1/782]. Loss: 0.015 : 64\n",
      "Epoch [8/15]. Step [301/782]. Loss: 0.016 : 64\n",
      "Epoch [8/15]. Step [601/782]. Loss: 0.016 : 64\n",
      "tensor([3, 8, 8, 0, 6, 6, 1, 6]) tensor([3, 8, 0, 0, 4, 6, 1, 6])\n",
      "Epoch [9/15]. Step [1/782]. Loss: 0.018 : 64\n",
      "Epoch [9/15]. Step [301/782]. Loss: 0.016 : 64\n",
      "Epoch [9/15]. Step [601/782]. Loss: 0.016 : 64\n",
      "tensor([3, 8, 8, 0, 6, 6, 1, 6]) tensor([3, 8, 8, 0, 4, 6, 1, 6])\n",
      "Epoch [10/15]. Step [1/782]. Loss: 0.015 : 64\n",
      "Epoch [10/15]. Step [301/782]. Loss: 0.015 : 64\n",
      "Epoch [10/15]. Step [601/782]. Loss: 0.016 : 64\n",
      "tensor([3, 8, 8, 0, 6, 6, 1, 6]) tensor([3, 8, 8, 8, 6, 6, 1, 6])\n",
      "Epoch [11/15]. Step [1/782]. Loss: 0.016 : 64\n",
      "Epoch [11/15]. Step [301/782]. Loss: 0.015 : 64\n",
      "Epoch [11/15]. Step [601/782]. Loss: 0.015 : 64\n",
      "tensor([3, 8, 8, 0, 6, 6, 1, 6]) tensor([4, 8, 1, 0, 6, 6, 1, 6])\n",
      "Epoch [12/15]. Step [1/782]. Loss: 0.014 : 64\n",
      "Epoch [12/15]. Step [301/782]. Loss: 0.015 : 64\n",
      "Epoch [12/15]. Step [601/782]. Loss: 0.015 : 64\n",
      "tensor([3, 8, 8, 0, 6, 6, 1, 6]) tensor([3, 1, 1, 8, 4, 6, 1, 6])\n",
      "Epoch [13/15]. Step [1/782]. Loss: 0.012 : 64\n",
      "Epoch [13/15]. Step [301/782]. Loss: 0.014 : 64\n",
      "Epoch [13/15]. Step [601/782]. Loss: 0.015 : 64\n",
      "tensor([3, 8, 8, 0, 6, 6, 1, 6]) tensor([3, 8, 8, 8, 6, 6, 1, 6])\n",
      "Epoch [14/15]. Step [1/782]. Loss: 0.015 : 64\n",
      "Epoch [14/15]. Step [301/782]. Loss: 0.014 : 64\n",
      "Epoch [14/15]. Step [601/782]. Loss: 0.015 : 64\n",
      "tensor([3, 8, 8, 0, 6, 6, 1, 6]) tensor([3, 8, 0, 0, 4, 6, 1, 6])\n",
      "Epoch [15/15]. Step [1/782]. Loss: 0.012 : 64\n",
      "Epoch [15/15]. Step [301/782]. Loss: 0.014 : 64\n",
      "Epoch [15/15]. Step [601/782]. Loss: 0.014 : 64\n",
      "tensor([3, 8, 8, 0, 6, 6, 1, 6]) tensor([4, 8, 1, 8, 4, 6, 1, 6])\n",
      "Training is finished!\n"
     ]
    }
   ],
   "source": [
    "num_epochs = 15\n",
    "\n",
    "for epoch in range(num_epochs):\n",
    "    running_loss = 0.0\n",
    "    running_items = 0.0\n",
    "    net.train()\n",
    "\n",
    "    for i, data in enumerate(train_loader):\n",
    "        inputs, labels = data[0], data[1]\n",
    "\n",
    "         # Обнуляем градиент\n",
    "        optimizer.zero_grad()\n",
    "        # Делаем предсказание\n",
    "        outputs = net(inputs)\n",
    "        # Рассчитываем лосс-функцию\n",
    "        loss = criterion(outputs, labels)\n",
    "        # Делаем шаг назад по лоссу\n",
    "        loss.backward()\n",
    "        # Делаем шаг нашего оптимайзера\n",
    "        optimizer.step()\n",
    "\n",
    "        # выводим статистику о процессе обучения\n",
    "        running_loss += loss.item()\n",
    "        running_items += len(labels)\n",
    "        if i % 300 == 0:    # печатаем каждые 300 mini-batches\n",
    "            print(f'Epoch [{epoch + 1}/{num_epochs}]. ' \\\n",
    "                  f'Step [{i + 1}/{len(train_loader)}]. ' \\\n",
    "                  f'Loss: {running_loss / running_items:.3f} : '+str(labels.shape[0]))\n",
    "            running_loss, running_items = 0.0, 0.0\n",
    "    net.eval()        \n",
    "    for i, data in enumerate(test_loader):\n",
    "        inputs, labels = data[0], data[1]\n",
    "        yp = net.predict(inputs) \n",
    "        _, predicted = torch.max(yp, 1)\n",
    "        print(labels , predicted )\n",
    "        break\n",
    "\n",
    "print('Training is finished!')"
   ]
  },
  {
   "cell_type": "code",
   "execution_count": 346,
   "metadata": {},
   "outputs": [
    {
     "data": {
      "text/plain": [
       "11536.0"
      ]
     },
     "execution_count": 346,
     "metadata": {},
     "output_type": "execute_result"
    }
   ],
   "source": [
    "running_items"
   ]
  },
  {
   "cell_type": "code",
   "execution_count": 347,
   "metadata": {},
   "outputs": [
    {
     "data": {
      "text/plain": [
       "torch.Size([8])"
      ]
     },
     "execution_count": 347,
     "metadata": {},
     "output_type": "execute_result"
    }
   ],
   "source": [
    "labels.shape"
   ]
  },
  {
   "cell_type": "markdown",
   "metadata": {
    "id": "_sTks3KslrhC"
   },
   "source": [
    "## Загрузка и сохранение модели"
   ]
  },
  {
   "cell_type": "markdown",
   "metadata": {
    "id": "LPFEiskvlrhC"
   },
   "source": [
    "### Сохранение модели"
   ]
  },
  {
   "cell_type": "code",
   "execution_count": 331,
   "metadata": {
    "id": "KD7mnuaeAhhs"
   },
   "outputs": [],
   "source": [
    "PATH_WEIGHTS = './cifar_net_test_version_weights.pth'\n",
    "torch.save(net.state_dict(), PATH_WEIGHTS)"
   ]
  },
  {
   "cell_type": "code",
   "execution_count": 332,
   "metadata": {
    "colab": {
     "base_uri": "https://localhost:8080/"
    },
    "executionInfo": {
     "elapsed": 3,
     "status": "ok",
     "timestamp": 1665418045630,
     "user": {
      "displayName": "Mariia Korliakova",
      "userId": "14165537686129864864"
     },
     "user_tz": -180
    },
    "id": "vfaFpun1Ahhs",
    "outputId": "b13efbeb-8095-4d3c-8e78-712ff4db0493"
   },
   "outputs": [
    {
     "name": "stdout",
     "output_type": "stream",
     "text": [
      "Model state_dict: \n",
      "fc1.weight \t torch.Size([512, 3072])\n",
      "fc1.bias \t torch.Size([512])\n",
      "fc2.weight \t torch.Size([256, 512])\n",
      "fc2.bias \t torch.Size([256])\n",
      "fc3.weight \t torch.Size([128, 256])\n",
      "fc3.bias \t torch.Size([128])\n",
      "fc4.weight \t torch.Size([10, 128])\n",
      "fc4.bias \t torch.Size([10])\n"
     ]
    }
   ],
   "source": [
    "print(\"Model state_dict: \")\n",
    "for param in net.state_dict():\n",
    "    print(param, \"\\t\", net.state_dict()[param].size())"
   ]
  },
  {
   "cell_type": "code",
   "execution_count": 333,
   "metadata": {
    "id": "7uo21kDtpehh"
   },
   "outputs": [],
   "source": [
    "PATH_MODEL = './cifar_net_test_version_model.pth'\n",
    "torch.save(net, PATH_MODEL)"
   ]
  },
  {
   "cell_type": "markdown",
   "metadata": {
    "id": "ehNiDFWtAhht"
   },
   "source": [
    "### Загрузка и использование модели "
   ]
  },
  {
   "cell_type": "code",
   "execution_count": 334,
   "metadata": {
    "colab": {
     "base_uri": "https://localhost:8080/"
    },
    "executionInfo": {
     "elapsed": 1005,
     "status": "ok",
     "timestamp": 1665418079518,
     "user": {
      "displayName": "Mariia Korliakova",
      "userId": "14165537686129864864"
     },
     "user_tz": -180
    },
    "id": "3bobKodiAhht",
    "outputId": "48dc24c2-8a66-4c89-ca48-3a7514dbde49"
   },
   "outputs": [
    {
     "data": {
      "text/plain": [
       "Net(\n",
       "  (fc1): Linear(in_features=3072, out_features=512, bias=True)\n",
       "  (fc2): Linear(in_features=512, out_features=256, bias=True)\n",
       "  (fc3): Linear(in_features=256, out_features=128, bias=True)\n",
       "  (fc4): Linear(in_features=128, out_features=10, bias=True)\n",
       ")"
      ]
     },
     "execution_count": 334,
     "metadata": {},
     "output_type": "execute_result"
    }
   ],
   "source": [
    "net1 = Net(3072,  10)\n",
    "net1.load_state_dict(torch.load(PATH_WEIGHTS))\n",
    "net1"
   ]
  },
  {
   "cell_type": "code",
   "execution_count": 335,
   "metadata": {
    "id": "EcC_eMaxphxr"
   },
   "outputs": [],
   "source": [
    "net3 = torch.load(PATH_MODEL)"
   ]
  },
  {
   "cell_type": "code",
   "execution_count": 348,
   "metadata": {
    "id": "bnItAZIgAhht"
   },
   "outputs": [],
   "source": [
    "data_iter = iter(test_loader)\n",
    "images, labels = next(data_iter)"
   ]
  },
  {
   "cell_type": "code",
   "execution_count": 349,
   "metadata": {},
   "outputs": [
    {
     "data": {
      "text/plain": [
       "torch.Size([8])"
      ]
     },
     "execution_count": 349,
     "metadata": {},
     "output_type": "execute_result"
    }
   ],
   "source": [
    "labels.shape"
   ]
  },
  {
   "cell_type": "code",
   "execution_count": 350,
   "metadata": {},
   "outputs": [
    {
     "data": {
      "text/plain": [
       "tensor(1.)"
      ]
     },
     "execution_count": 350,
     "metadata": {},
     "output_type": "execute_result"
    }
   ],
   "source": [
    "images.max()"
   ]
  },
  {
   "cell_type": "code",
   "execution_count": 351,
   "metadata": {
    "colab": {
     "base_uri": "https://localhost:8080/",
     "height": 142
    },
    "executionInfo": {
     "elapsed": 1540,
     "status": "ok",
     "timestamp": 1665418088853,
     "user": {
      "displayName": "Mariia Korliakova",
      "userId": "14165537686129864864"
     },
     "user_tz": -180
    },
    "id": "xaZVP7lWAhhu",
    "outputId": "420ffe8a-74a3-4a5e-d4db-b5496ccba0cd",
    "scrolled": true
   },
   "outputs": [
    {
     "name": "stdout",
     "output_type": "stream",
     "text": [
      "GroundTruth:  cat ship ship plane frog frog car frog\n"
     ]
    },
    {
     "data": {
      "image/png": "[encoded data removed]",
      "text/plain": [
       "<Figure size 1000x500 with 1 Axes>"
      ]
     },
     "metadata": {},
     "output_type": "display_data"
    }
   ],
   "source": [
    "net3.eval()\n",
    "outputs = net3(images)\n",
    "imgs = torchvision.utils.make_grid(images)\n",
    "plt.figure(figsize=(10, 5))\n",
    "plt.imshow(imgs.permute(1, 2, 0).numpy())\n",
    "print('GroundTruth: ', ' '.join(classes[labels[j]] for j in range(len(labels))))"
   ]
  },
  {
   "cell_type": "code",
   "execution_count": 352,
   "metadata": {
    "colab": {
     "base_uri": "https://localhost:8080/"
    },
    "executionInfo": {
     "elapsed": 451,
     "status": "ok",
     "timestamp": 1665418155433,
     "user": {
      "displayName": "Mariia Korliakova",
      "userId": "14165537686129864864"
     },
     "user_tz": -180
    },
    "id": "OK5qzXeCAhhv",
    "outputId": "8ffa9fcd-f61d-4f7c-e536-0652e116b477"
   },
   "outputs": [
    {
     "name": "stdout",
     "output_type": "stream",
     "text": [
      "tensor([[-3.1399, -1.0264, -1.9211,  2.4719,  1.9073,  0.7839, -2.2301, -2.8021,\n",
      "          1.0379, -2.8847],\n",
      "        [ 1.3224,  2.4914, -1.5843, -3.2909, -2.7641, -4.6815, -3.8017, -3.8008,\n",
      "          4.5800,  2.6803],\n",
      "        [ 2.1607,  1.3674, -0.6758, -3.1105, -0.7429, -2.7807, -5.6912, -2.8449,\n",
      "          3.5453, -0.1520],\n",
      "        [ 2.1648, -0.4061,  1.3231, -2.4061,  0.1122, -2.6228, -4.6960, -2.2779,\n",
      "          2.9695, -0.2050],\n",
      "        [-4.1003, -7.4563,  0.8245,  0.4802,  4.3047,  1.7942,  4.0993, -2.2233,\n",
      "         -3.5055, -8.2830],\n",
      "        [-1.9218, -2.8651,  0.1893,  1.0636,  0.2580,  0.5726,  3.0613, -1.1867,\n",
      "         -4.1124, -2.2857],\n",
      "        [-0.4540,  1.7139, -1.9040,  1.8982, -5.8275,  1.3486, -1.1419, -2.3438,\n",
      "         -0.6036, -0.1636],\n",
      "        [-2.9587, -3.1024,  1.0662,  0.8114,  0.3895,  0.3106,  2.5152, -1.4378,\n",
      "         -2.9593, -1.8674]], grad_fn=<AddmmBackward0>)\n"
     ]
    }
   ],
   "source": [
    "print(outputs)"
   ]
  },
  {
   "cell_type": "code",
   "execution_count": 353,
   "metadata": {
    "colab": {
     "base_uri": "https://localhost:8080/"
    },
    "executionInfo": {
     "elapsed": 3,
     "status": "ok",
     "timestamp": 1665418157420,
     "user": {
      "displayName": "Mariia Korliakova",
      "userId": "14165537686129864864"
     },
     "user_tz": -180
    },
    "id": "lR4a_Km2BGlq",
    "outputId": "c4d13d5e-0aab-44f7-9241-6c0b55c9e07b"
   },
   "outputs": [
    {
     "name": "stderr",
     "output_type": "stream",
     "text": [
      "C:\\Users\\Relict\\AppData\\Local\\Temp\\ipykernel_5016\\173106317.py:33: UserWarning: Implicit dimension choice for softmax has been deprecated. Change the call to include dim=X as an argument.\n",
      "  x = F.softmax(x)\n"
     ]
    },
    {
     "data": {
      "text/plain": [
       "tensor([[1.7766e-03, 1.4705e-02, 6.0108e-03, 4.8614e-01, 2.7641e-01, 8.9887e-02,\n",
       "         4.4128e-03, 2.4907e-03, 1.1588e-01, 2.2930e-03],\n",
       "        [2.9248e-02, 9.4147e-02, 1.5987e-03, 2.9013e-04, 4.9133e-04, 7.2216e-05,\n",
       "         1.7407e-04, 1.7424e-04, 7.6008e-01, 1.1373e-01],\n",
       "        [1.7614e-01, 7.9672e-02, 1.0327e-02, 9.0488e-04, 9.6565e-03, 1.2584e-03,\n",
       "         6.8521e-05, 1.1802e-03, 7.0336e-01, 1.7437e-02],\n",
       "        [2.5019e-01, 1.9131e-02, 1.0783e-01, 2.5890e-03, 3.2124e-02, 2.0848e-03,\n",
       "         2.6222e-04, 2.9432e-03, 5.5945e-01, 2.3392e-02],\n",
       "        [1.1472e-04, 4.0007e-06, 1.5792e-02, 1.1192e-02, 5.1275e-01, 4.1649e-02,\n",
       "         4.1754e-01, 7.4956e-04, 2.0796e-04, 1.7504e-06],\n",
       "        [5.0200e-03, 1.9543e-03, 4.1448e-02, 9.9360e-02, 4.4396e-02, 6.0811e-02,\n",
       "         7.3249e-01, 1.0470e-02, 5.6145e-04, 3.4884e-03],\n",
       "        [3.4006e-02, 2.9722e-01, 7.9769e-03, 3.5738e-01, 1.5773e-04, 2.0628e-01,\n",
       "         1.7093e-02, 5.1385e-03, 2.9282e-02, 4.5467e-02],\n",
       "        [2.4819e-03, 2.1498e-03, 1.3892e-01, 1.0768e-01, 7.0617e-02, 6.5259e-02,\n",
       "         5.9166e-01, 1.1358e-02, 2.4805e-03, 7.3919e-03]],\n",
       "       grad_fn=<SoftmaxBackward0>)"
      ]
     },
     "execution_count": 353,
     "metadata": {},
     "output_type": "execute_result"
    }
   ],
   "source": [
    "net1.predict(images)"
   ]
  },
  {
   "cell_type": "code",
   "execution_count": 354,
   "metadata": {
    "colab": {
     "base_uri": "https://localhost:8080/"
    },
    "executionInfo": {
     "elapsed": 3,
     "status": "ok",
     "timestamp": 1665418159560,
     "user": {
      "displayName": "Mariia Korliakova",
      "userId": "14165537686129864864"
     },
     "user_tz": -180
    },
    "id": "VF-ezeboAhhv",
    "outputId": "9e2cd37a-7baa-46e9-901d-65d52a8a9bc5"
   },
   "outputs": [
    {
     "data": {
      "text/plain": [
       "tensor([3, 8, 8, 8, 4, 6, 3, 6])"
      ]
     },
     "execution_count": 354,
     "metadata": {},
     "output_type": "execute_result"
    }
   ],
   "source": [
    "_, predicted = torch.max(outputs, 1)\n",
    "\n",
    "predicted"
   ]
  },
  {
   "cell_type": "code",
   "execution_count": 355,
   "metadata": {
    "colab": {
     "base_uri": "https://localhost:8080/"
    },
    "executionInfo": {
     "elapsed": 433,
     "status": "ok",
     "timestamp": 1665418178025,
     "user": {
      "displayName": "Mariia Korliakova",
      "userId": "14165537686129864864"
     },
     "user_tz": -180
    },
    "id": "Vd6w5xrvHP-O",
    "outputId": "c1272934-0167-42b8-f6f1-9d0fe8f05aa4"
   },
   "outputs": [
    {
     "name": "stdout",
     "output_type": "stream",
     "text": [
      "Predicted:  cat ship ship ship deer frog cat frog\n"
     ]
    }
   ],
   "source": [
    "print('Predicted: ', ' '.join(classes[predicted[j]] for j in range(len(labels))))"
   ]
  },
  {
   "cell_type": "code",
   "execution_count": 356,
   "metadata": {
    "colab": {
     "base_uri": "https://localhost:8080/"
    },
    "executionInfo": {
     "elapsed": 3,
     "status": "ok",
     "timestamp": 1665418180287,
     "user": {
      "displayName": "Mariia Korliakova",
      "userId": "14165537686129864864"
     },
     "user_tz": -180
    },
    "id": "oxPcScN3ROv2",
    "outputId": "6bd95256-86e2-4aa7-a825-bd45a8c04a1b"
   },
   "outputs": [
    {
     "name": "stdout",
     "output_type": "stream",
     "text": [
      "['cat' 'ship' 'ship' 'plane' 'frog' 'frog' 'car' 'frog']\n",
      "['cat' 'ship' 'ship' 'ship' 'deer' 'frog' 'cat' 'frog']\n",
      "Accuracy is 0.625\n"
     ]
    }
   ],
   "source": [
    "gt = np.array([classes[labels[j]] for j in range(len(labels))])\n",
    "pred = np.array([classes[predicted[j]] for j in range(len(labels))])\n",
    "\n",
    "print(gt)\n",
    "print(pred)\n",
    "print(f'Accuracy is {(gt == pred).sum() / len(gt)}')"
   ]
  },
  {
   "cell_type": "markdown",
   "metadata": {
    "id": "MkJ7emsMxaYF"
   },
   "source": [
    "# Домашнее задание\n",
    "\n",
    "1. Добиться хорошего результата от модели, собранной на занятии (5 угаданныx картинок из 8 предложенных). Варианты изменений:\n",
    "- изменение слоёв и их количества;\n",
    "- изменение метода оптимизации;\n",
    "- изменение процесса обучения;\n",
    "- *преобразование данных transform\n",
    "- *Загрузим датасет CIFAR-100, сразу же создадим dataloader для него\n",
    "\n",
    "2. *Переписать данный туториал на PyTorch: https://www.tensorflow.org/tutorials/quickstart/beginner?hl=ru"
   ]
  },
  {
   "cell_type": "markdown",
   "metadata": {},
   "source": [
    "### Вывод: смена оптимизатора SGD на Adam повысило точность нейронной сети до 0,5 при прочих равных параметрах. Увеличение num_epochs до 15 повысило точность до 0,625 (точность предсказаний 5 из 8). Уменьшение hidden_dim более 128 и менее 128, также отрицательно сказалось на точности сети."
   ]
  },
  {
   "cell_type": "code",
   "execution_count": null,
   "metadata": {},
   "outputs": [],
   "source": []
  },
  {
   "cell_type": "markdown",
   "metadata": {},
   "source": [
    "**Дополнительные материалы:**\n",
    "1. Метод обратного распространения ошибки https://youtu.be/EuhoXsuu8SQ\n",
    "2. Функции активаций https://youtu.be/Gs8T_qF-FAA"
   ]
  },
  {
   "cell_type": "code",
   "execution_count": null,
   "metadata": {},
   "outputs": [],
   "source": [
    "train_dataset_1 = torchvision.datasets.CIFAR100(root='data/',\n",
    "                                             train=True,  \n",
    "                                             transform=transforms.ToTensor(), \n",
    "                                             download=True)\n"
   ]
  }
 ],
 "metadata": {
  "accelerator": "GPU",
  "colab": {
   "collapsed_sections": [],
   "provenance": []
  },
  "kernelspec": {
   "display_name": "Python 3 (ipykernel)",
   "language": "python",
   "name": "python3"
  },
  "language_info": {
   "codemirror_mode": {
    "name": "ipython",
    "version": 3
   },
   "file_extension": ".py",
   "mimetype": "text/x-python",
   "name": "python",
   "nbconvert_exporter": "python",
   "pygments_lexer": "ipython3",
   "version": "3.9.13"
  },
  "widgets": {
   "application/vnd.jupyter.widget-state+json": {
    "569fb80224674514b427882a0416563f": {
     "model_module": "@jupyter-widgets/controls",
     "model_module_version": "1.5.0",
     "model_name": "ProgressStyleModel",
     "state": {
      "_model_module": "@jupyter-widgets/controls",
      "_model_module_version": "1.5.0",
      "_model_name": "ProgressStyleModel",
      "_view_count": null,
      "_view_module": "@jupyter-widgets/base",
      "_view_module_version": "1.2.0",
      "_view_name": "StyleView",
      "bar_color": null,
      "description_width": ""
     }
    },
    "5f6a4e99ed964343ac697d166d8c92b6": {
     "model_module": "@jupyter-widgets/controls",
     "model_module_version": "1.5.0",
     "model_name": "HBoxModel",
     "state": {
      "_dom_classes": [],
      "_model_module": "@jupyter-widgets/controls",
      "_model_module_version": "1.5.0",
      "_model_name": "HBoxModel",
      "_view_count": null,
      "_view_module": "@jupyter-widgets/controls",
      "_view_module_version": "1.5.0",
      "_view_name": "HBoxView",
      "box_style": "",
      "children": [
       "IPY_MODEL_7db40f22bdb248b2ab76d9504c867bc3",
       "IPY_MODEL_d6e555108b8344a7a3f1b423e805fea7",
       "IPY_MODEL_ea8d5abd79b04e208b90023b7261fd54"
      ],
      "layout": "IPY_MODEL_d2dc4119bec04059ae744ed2511967be"
     }
    },
    "61174812d0564de49a75118d6ca02a47": {
     "model_module": "@jupyter-widgets/base",
     "model_module_version": "1.2.0",
     "model_name": "LayoutModel",
     "state": {
      "_model_module": "@jupyter-widgets/base",
      "_model_module_version": "1.2.0",
      "_model_name": "LayoutModel",
      "_view_count": null,
      "_view_module": "@jupyter-widgets/base",
      "_view_module_version": "1.2.0",
      "_view_name": "LayoutView",
      "align_content": null,
      "align_items": null,
      "align_self": null,
      "border": null,
      "bottom": null,
      "display": null,
      "flex": null,
      "flex_flow": null,
      "grid_area": null,
      "grid_auto_columns": null,
      "grid_auto_flow": null,
      "grid_auto_rows": null,
      "grid_column": null,
      "grid_gap": null,
      "grid_row": null,
      "grid_template_areas": null,
      "grid_template_columns": null,
      "grid_template_rows": null,
      "height": null,
      "justify_content": null,
      "justify_items": null,
      "left": null,
      "margin": null,
      "max_height": null,
      "max_width": null,
      "min_height": null,
      "min_width": null,
      "object_fit": null,
      "object_position": null,
      "order": null,
      "overflow": null,
      "overflow_x": null,
      "overflow_y": null,
      "padding": null,
      "right": null,
      "top": null,
      "visibility": null,
      "width": null
     }
    },
    "61af6dce3d004e25ad1c2dcb5989dbf5": {
     "model_module": "@jupyter-widgets/base",
     "model_module_version": "1.2.0",
     "model_name": "LayoutModel",
     "state": {
      "_model_module": "@jupyter-widgets/base",
      "_model_module_version": "1.2.0",
      "_model_name": "LayoutModel",
      "_view_count": null,
      "_view_module": "@jupyter-widgets/base",
      "_view_module_version": "1.2.0",
      "_view_name": "LayoutView",
      "align_content": null,
      "align_items": null,
      "align_self": null,
      "border": null,
      "bottom": null,
      "display": null,
      "flex": null,
      "flex_flow": null,
      "grid_area": null,
      "grid_auto_columns": null,
      "grid_auto_flow": null,
      "grid_auto_rows": null,
      "grid_column": null,
      "grid_gap": null,
      "grid_row": null,
      "grid_template_areas": null,
      "grid_template_columns": null,
      "grid_template_rows": null,
      "height": null,
      "justify_content": null,
      "justify_items": null,
      "left": null,
      "margin": null,
      "max_height": null,
      "max_width": null,
      "min_height": null,
      "min_width": null,
      "object_fit": null,
      "object_position": null,
      "order": null,
      "overflow": null,
      "overflow_x": null,
      "overflow_y": null,
      "padding": null,
      "right": null,
      "top": null,
      "visibility": null,
      "width": null
     }
    },
    "7db40f22bdb248b2ab76d9504c867bc3": {
     "model_module": "@jupyter-widgets/controls",
     "model_module_version": "1.5.0",
     "model_name": "HTMLModel",
     "state": {
      "_dom_classes": [],
      "_model_module": "@jupyter-widgets/controls",
      "_model_module_version": "1.5.0",
      "_model_name": "HTMLModel",
      "_view_count": null,
      "_view_module": "@jupyter-widgets/controls",
      "_view_module_version": "1.5.0",
      "_view_name": "HTMLView",
      "description": "",
      "description_tooltip": null,
      "layout": "IPY_MODEL_61af6dce3d004e25ad1c2dcb5989dbf5",
      "placeholder": "​",
      "style": "IPY_MODEL_f1d79c697a734eaf93e64045cfc3f4d8",
      "value": "100%"
     }
    },
    "9ab1e83850eb49ac9860160c42eea6e6": {
     "model_module": "@jupyter-widgets/controls",
     "model_module_version": "1.5.0",
     "model_name": "DescriptionStyleModel",
     "state": {
      "_model_module": "@jupyter-widgets/controls",
      "_model_module_version": "1.5.0",
      "_model_name": "DescriptionStyleModel",
      "_view_count": null,
      "_view_module": "@jupyter-widgets/base",
      "_view_module_version": "1.2.0",
      "_view_name": "StyleView",
      "description_width": ""
     }
    },
    "d2dc4119bec04059ae744ed2511967be": {
     "model_module": "@jupyter-widgets/base",
     "model_module_version": "1.2.0",
     "model_name": "LayoutModel",
     "state": {
      "_model_module": "@jupyter-widgets/base",
      "_model_module_version": "1.2.0",
      "_model_name": "LayoutModel",
      "_view_count": null,
      "_view_module": "@jupyter-widgets/base",
      "_view_module_version": "1.2.0",
      "_view_name": "LayoutView",
      "align_content": null,
      "align_items": null,
      "align_self": null,
      "border": null,
      "bottom": null,
      "display": null,
      "flex": null,
      "flex_flow": null,
      "grid_area": null,
      "grid_auto_columns": null,
      "grid_auto_flow": null,
      "grid_auto_rows": null,
      "grid_column": null,
      "grid_gap": null,
      "grid_row": null,
      "grid_template_areas": null,
      "grid_template_columns": null,
      "grid_template_rows": null,
      "height": null,
      "justify_content": null,
      "justify_items": null,
      "left": null,
      "margin": null,
      "max_height": null,
      "max_width": null,
      "min_height": null,
      "min_width": null,
      "object_fit": null,
      "object_position": null,
      "order": null,
      "overflow": null,
      "overflow_x": null,
      "overflow_y": null,
      "padding": null,
      "right": null,
      "top": null,
      "visibility": null,
      "width": null
     }
    },
    "d6e555108b8344a7a3f1b423e805fea7": {
     "model_module": "@jupyter-widgets/controls",
     "model_module_version": "1.5.0",
     "model_name": "FloatProgressModel",
     "state": {
      "_dom_classes": [],
      "_model_module": "@jupyter-widgets/controls",
      "_model_module_version": "1.5.0",
      "_model_name": "FloatProgressModel",
      "_view_count": null,
      "_view_module": "@jupyter-widgets/controls",
      "_view_module_version": "1.5.0",
      "_view_name": "ProgressView",
      "bar_style": "success",
      "description": "",
      "description_tooltip": null,
      "layout": "IPY_MODEL_61174812d0564de49a75118d6ca02a47",
      "max": 170498071,
      "min": 0,
      "orientation": "horizontal",
      "style": "IPY_MODEL_569fb80224674514b427882a0416563f",
      "value": 170498071
     }
    },
    "ea8d5abd79b04e208b90023b7261fd54": {
     "model_module": "@jupyter-widgets/controls",
     "model_module_version": "1.5.0",
     "model_name": "HTMLModel",
     "state": {
      "_dom_classes": [],
      "_model_module": "@jupyter-widgets/controls",
      "_model_module_version": "1.5.0",
      "_model_name": "HTMLModel",
      "_view_count": null,
      "_view_module": "@jupyter-widgets/controls",
      "_view_module_version": "1.5.0",
      "_view_name": "HTMLView",
      "description": "",
      "description_tooltip": null,
      "layout": "IPY_MODEL_f96baa58fcf846da87e0d00278dee964",
      "placeholder": "​",
      "style": "IPY_MODEL_9ab1e83850eb49ac9860160c42eea6e6",
      "value": " 170498071/170498071 [00:13&lt;00:00, 13367628.79it/s]"
     }
    },
    "f1d79c697a734eaf93e64045cfc3f4d8": {
     "model_module": "@jupyter-widgets/controls",
     "model_module_version": "1.5.0",
     "model_name": "DescriptionStyleModel",
     "state": {
      "_model_module": "@jupyter-widgets/controls",
      "_model_module_version": "1.5.0",
      "_model_name": "DescriptionStyleModel",
      "_view_count": null,
      "_view_module": "@jupyter-widgets/base",
      "_view_module_version": "1.2.0",
      "_view_name": "StyleView",
      "description_width": ""
     }
    },
    "f96baa58fcf846da87e0d00278dee964": {
     "model_module": "@jupyter-widgets/base",
     "model_module_version": "1.2.0",
     "model_name": "LayoutModel",
     "state": {
      "_model_module": "@jupyter-widgets/base",
      "_model_module_version": "1.2.0",
      "_model_name": "LayoutModel",
      "_view_count": null,
      "_view_module": "@jupyter-widgets/base",
      "_view_module_version": "1.2.0",
      "_view_name": "LayoutView",
      "align_content": null,
      "align_items": null,
      "align_self": null,
      "border": null,
      "bottom": null,
      "display": null,
      "flex": null,
      "flex_flow": null,
      "grid_area": null,
      "grid_auto_columns": null,
      "grid_auto_flow": null,
      "grid_auto_rows": null,
      "grid_column": null,
      "grid_gap": null,
      "grid_row": null,
      "grid_template_areas": null,
      "grid_template_columns": null,
      "grid_template_rows": null,
      "height": null,
      "justify_content": null,
      "justify_items": null,
      "left": null,
      "margin": null,
      "max_height": null,
      "max_width": null,
      "min_height": null,
      "min_width": null,
      "object_fit": null,
      "object_position": null,
      "order": null,
      "overflow": null,
      "overflow_x": null,
      "overflow_y": null,
      "padding": null,
      "right": null,
      "top": null,
      "visibility": null,
      "width": null
     }
    }
   }
  }
 },
 "nbformat": 4,
 "nbformat_minor": 1
}
